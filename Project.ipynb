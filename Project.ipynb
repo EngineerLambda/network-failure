{
 "cells": [
  {
   "cell_type": "code",
   "execution_count": 61,
   "id": "951099dd",
   "metadata": {},
   "outputs": [],
   "source": [
    "import numpy as np\n",
    "import pandas as pd\n",
    "import matplotlib.pyplot as plt\n",
    "import seaborn as sns\n",
    "from sklearn.preprocessing import StandardScaler, MinMaxScaler\n",
    "from sklearn.model_selection import train_test_split\n",
    "from sklearn.ensemble import RandomForestClassifier\n",
    "from sklearn.tree import DecisionTreeClassifier\n",
    "from sklearn.metrics import accuracy_score, classification_report, confusion_matrix\n",
    "from sklearn.linear_model import LogisticRegression\n",
    "import xgboost as xgb\n",
    "from pprint import pprint\n",
    "import joblib"
   ]
  },
  {
   "cell_type": "code",
   "execution_count": 2,
   "id": "b20235eb",
   "metadata": {},
   "outputs": [
    {
     "data": {
      "text/html": [
       "<div>\n",
       "<style scoped>\n",
       "    .dataframe tbody tr th:only-of-type {\n",
       "        vertical-align: middle;\n",
       "    }\n",
       "\n",
       "    .dataframe tbody tr th {\n",
       "        vertical-align: top;\n",
       "    }\n",
       "\n",
       "    .dataframe thead th {\n",
       "        text-align: right;\n",
       "    }\n",
       "</style>\n",
       "<table border=\"1\" class=\"dataframe\">\n",
       "  <thead>\n",
       "    <tr style=\"text-align: right;\">\n",
       "      <th></th>\n",
       "      <th>Device_ID</th>\n",
       "      <th>Device_Type</th>\n",
       "      <th>Date</th>\n",
       "      <th>Temperature</th>\n",
       "      <th>CPU_Usage</th>\n",
       "      <th>Memory_Usage</th>\n",
       "      <th>Error_Rate</th>\n",
       "      <th>Uptime</th>\n",
       "      <th>Failure</th>\n",
       "    </tr>\n",
       "  </thead>\n",
       "  <tbody>\n",
       "    <tr>\n",
       "      <th>0</th>\n",
       "      <td>0</td>\n",
       "      <td>Router/Gateway</td>\n",
       "      <td>2023-06-28</td>\n",
       "      <td>63.389943</td>\n",
       "      <td>37.478755</td>\n",
       "      <td>99.051627</td>\n",
       "      <td>2.791260</td>\n",
       "      <td>16.700750</td>\n",
       "      <td>1</td>\n",
       "    </tr>\n",
       "    <tr>\n",
       "      <th>1</th>\n",
       "      <td>0</td>\n",
       "      <td>Router/Gateway</td>\n",
       "      <td>2023-06-29</td>\n",
       "      <td>66.735138</td>\n",
       "      <td>91.438946</td>\n",
       "      <td>93.867897</td>\n",
       "      <td>4.000322</td>\n",
       "      <td>36.543771</td>\n",
       "      <td>1</td>\n",
       "    </tr>\n",
       "    <tr>\n",
       "      <th>2</th>\n",
       "      <td>0</td>\n",
       "      <td>Router/Gateway</td>\n",
       "      <td>2023-06-30</td>\n",
       "      <td>59.383973</td>\n",
       "      <td>74.437226</td>\n",
       "      <td>25.858841</td>\n",
       "      <td>1.229763</td>\n",
       "      <td>65.103254</td>\n",
       "      <td>1</td>\n",
       "    </tr>\n",
       "    <tr>\n",
       "      <th>3</th>\n",
       "      <td>0</td>\n",
       "      <td>Router/Gateway</td>\n",
       "      <td>2023-07-01</td>\n",
       "      <td>66.292687</td>\n",
       "      <td>71.625961</td>\n",
       "      <td>39.616745</td>\n",
       "      <td>4.151991</td>\n",
       "      <td>75.894574</td>\n",
       "      <td>1</td>\n",
       "    </tr>\n",
       "    <tr>\n",
       "      <th>4</th>\n",
       "      <td>0</td>\n",
       "      <td>Router/Gateway</td>\n",
       "      <td>2023-07-02</td>\n",
       "      <td>53.077617</td>\n",
       "      <td>7.230234</td>\n",
       "      <td>54.507771</td>\n",
       "      <td>3.203656</td>\n",
       "      <td>108.244027</td>\n",
       "      <td>1</td>\n",
       "    </tr>\n",
       "  </tbody>\n",
       "</table>\n",
       "</div>"
      ],
      "text/plain": [
       "   Device_ID     Device_Type        Date  Temperature  CPU_Usage  \\\n",
       "0          0  Router/Gateway  2023-06-28    63.389943  37.478755   \n",
       "1          0  Router/Gateway  2023-06-29    66.735138  91.438946   \n",
       "2          0  Router/Gateway  2023-06-30    59.383973  74.437226   \n",
       "3          0  Router/Gateway  2023-07-01    66.292687  71.625961   \n",
       "4          0  Router/Gateway  2023-07-02    53.077617   7.230234   \n",
       "\n",
       "   Memory_Usage  Error_Rate      Uptime  Failure  \n",
       "0     99.051627    2.791260   16.700750        1  \n",
       "1     93.867897    4.000322   36.543771        1  \n",
       "2     25.858841    1.229763   65.103254        1  \n",
       "3     39.616745    4.151991   75.894574        1  \n",
       "4     54.507771    3.203656  108.244027        1  "
      ]
     },
     "execution_count": 2,
     "metadata": {},
     "output_type": "execute_result"
    }
   ],
   "source": [
    "data = pd.read_excel(\"network_device_data_year.xlsx\")\n",
    "data.head()"
   ]
  },
  {
   "cell_type": "markdown",
   "id": "635ba924",
   "metadata": {},
   "source": [
    "To train a classification model, Device_ID and Date are not necessarily needed."
   ]
  },
  {
   "cell_type": "code",
   "execution_count": 4,
   "id": "50448e61",
   "metadata": {},
   "outputs": [
    {
     "data": {
      "text/html": [
       "<div>\n",
       "<style scoped>\n",
       "    .dataframe tbody tr th:only-of-type {\n",
       "        vertical-align: middle;\n",
       "    }\n",
       "\n",
       "    .dataframe tbody tr th {\n",
       "        vertical-align: top;\n",
       "    }\n",
       "\n",
       "    .dataframe thead th {\n",
       "        text-align: right;\n",
       "    }\n",
       "</style>\n",
       "<table border=\"1\" class=\"dataframe\">\n",
       "  <thead>\n",
       "    <tr style=\"text-align: right;\">\n",
       "      <th></th>\n",
       "      <th>Device_Type</th>\n",
       "      <th>Temperature</th>\n",
       "      <th>CPU_Usage</th>\n",
       "      <th>Memory_Usage</th>\n",
       "      <th>Error_Rate</th>\n",
       "      <th>Uptime</th>\n",
       "      <th>Failure</th>\n",
       "    </tr>\n",
       "  </thead>\n",
       "  <tbody>\n",
       "    <tr>\n",
       "      <th>0</th>\n",
       "      <td>Router/Gateway</td>\n",
       "      <td>63.389943</td>\n",
       "      <td>37.478755</td>\n",
       "      <td>99.051627</td>\n",
       "      <td>2.791260</td>\n",
       "      <td>16.700750</td>\n",
       "      <td>1</td>\n",
       "    </tr>\n",
       "    <tr>\n",
       "      <th>1</th>\n",
       "      <td>Router/Gateway</td>\n",
       "      <td>66.735138</td>\n",
       "      <td>91.438946</td>\n",
       "      <td>93.867897</td>\n",
       "      <td>4.000322</td>\n",
       "      <td>36.543771</td>\n",
       "      <td>1</td>\n",
       "    </tr>\n",
       "    <tr>\n",
       "      <th>2</th>\n",
       "      <td>Router/Gateway</td>\n",
       "      <td>59.383973</td>\n",
       "      <td>74.437226</td>\n",
       "      <td>25.858841</td>\n",
       "      <td>1.229763</td>\n",
       "      <td>65.103254</td>\n",
       "      <td>1</td>\n",
       "    </tr>\n",
       "    <tr>\n",
       "      <th>3</th>\n",
       "      <td>Router/Gateway</td>\n",
       "      <td>66.292687</td>\n",
       "      <td>71.625961</td>\n",
       "      <td>39.616745</td>\n",
       "      <td>4.151991</td>\n",
       "      <td>75.894574</td>\n",
       "      <td>1</td>\n",
       "    </tr>\n",
       "    <tr>\n",
       "      <th>4</th>\n",
       "      <td>Router/Gateway</td>\n",
       "      <td>53.077617</td>\n",
       "      <td>7.230234</td>\n",
       "      <td>54.507771</td>\n",
       "      <td>3.203656</td>\n",
       "      <td>108.244027</td>\n",
       "      <td>1</td>\n",
       "    </tr>\n",
       "  </tbody>\n",
       "</table>\n",
       "</div>"
      ],
      "text/plain": [
       "      Device_Type  Temperature  CPU_Usage  Memory_Usage  Error_Rate  \\\n",
       "0  Router/Gateway    63.389943  37.478755     99.051627    2.791260   \n",
       "1  Router/Gateway    66.735138  91.438946     93.867897    4.000322   \n",
       "2  Router/Gateway    59.383973  74.437226     25.858841    1.229763   \n",
       "3  Router/Gateway    66.292687  71.625961     39.616745    4.151991   \n",
       "4  Router/Gateway    53.077617   7.230234     54.507771    3.203656   \n",
       "\n",
       "       Uptime  Failure  \n",
       "0   16.700750        1  \n",
       "1   36.543771        1  \n",
       "2   65.103254        1  \n",
       "3   75.894574        1  \n",
       "4  108.244027        1  "
      ]
     },
     "execution_count": 4,
     "metadata": {},
     "output_type": "execute_result"
    }
   ],
   "source": [
    "data = data.drop(columns=[\"Device_ID\", \"Date\"])\n",
    "data.head()"
   ]
  },
  {
   "cell_type": "markdown",
   "id": "e84613e0",
   "metadata": {},
   "source": [
    "## Exploratory Data Analysis"
   ]
  },
  {
   "cell_type": "code",
   "execution_count": 5,
   "id": "b0a32913",
   "metadata": {
    "scrolled": true
   },
   "outputs": [
    {
     "name": "stdout",
     "output_type": "stream",
     "text": [
      "<class 'pandas.core.frame.DataFrame'>\n",
      "RangeIndex: 2190 entries, 0 to 2189\n",
      "Data columns (total 7 columns):\n",
      " #   Column        Non-Null Count  Dtype  \n",
      "---  ------        --------------  -----  \n",
      " 0   Device_Type   2190 non-null   object \n",
      " 1   Temperature   2190 non-null   float64\n",
      " 2   CPU_Usage     2190 non-null   float64\n",
      " 3   Memory_Usage  2190 non-null   float64\n",
      " 4   Error_Rate    2190 non-null   float64\n",
      " 5   Uptime        2190 non-null   float64\n",
      " 6   Failure       2190 non-null   int64  \n",
      "dtypes: float64(5), int64(1), object(1)\n",
      "memory usage: 119.9+ KB\n"
     ]
    }
   ],
   "source": [
    "data.info()"
   ]
  },
  {
   "cell_type": "markdown",
   "id": "b7ff33c4",
   "metadata": {},
   "source": [
    "The data has exactly 2190 instances of network devices data indicating failure and when there's no failure"
   ]
  },
  {
   "cell_type": "code",
   "execution_count": 10,
   "id": "53911457",
   "metadata": {},
   "outputs": [
    {
     "name": "stdout",
     "output_type": "stream",
     "text": [
      "Device_Type\n",
      "Router/Gateway    365\n",
      "Firewall          365\n",
      "Switch            365\n",
      "AP                365\n",
      "Server            365\n",
      "Laptop            365\n",
      "Name: count, dtype: int64\n"
     ]
    },
    {
     "data": {
      "image/png": "[encoded data removed]",
      "text/plain": [
       "<Figure size 640x480 with 1 Axes>"
      ]
     },
     "metadata": {},
     "output_type": "display_data"
    }
   ],
   "source": [
    "# Checking for the unique devices\n",
    "unique_devices = data.Device_Type.value_counts()\n",
    "print(unique_devices)\n",
    "unique_devices.plot(kind=\"bar\")\n",
    "plt.show()"
   ]
  },
  {
   "cell_type": "markdown",
   "id": "d33b5d10",
   "metadata": {},
   "source": [
    "This Shows that there are 365 instances of 6 different neworking devices<br>\n",
    "These devices are:\n",
    "* Router/Gateway\n",
    "* Firewall\n",
    "* Switch\n",
    "* AP(Access Point)\n",
    "* Server\n",
    "* Laptop"
   ]
  },
  {
   "cell_type": "code",
   "execution_count": 11,
   "id": "0411f8fd",
   "metadata": {},
   "outputs": [
    {
     "data": {
      "text/plain": [
       "{'Router/Gateway': 0,\n",
       " 'Firewall': 1,\n",
       " 'Switch': 2,\n",
       " 'AP': 3,\n",
       " 'Server': 4,\n",
       " 'Laptop': 5}"
      ]
     },
     "execution_count": 11,
     "metadata": {},
     "output_type": "execute_result"
    }
   ],
   "source": [
    "# creating a map to label encode the Device_Type column\n",
    "device_map = {\n",
    "    \"Router/Gateway\" : 0,\n",
    "    \"Firewall\" : 1,\n",
    "    \"Switch\" : 2,\n",
    "    \"AP\" : 3,\n",
    "    \"Server\" : 4,\n",
    "    \"Laptop\" : 5\n",
    "}\n",
    "device_map"
   ]
  },
  {
   "cell_type": "code",
   "execution_count": 12,
   "id": "7b02631f",
   "metadata": {},
   "outputs": [
    {
     "data": {
      "text/html": [
       "<div>\n",
       "<style scoped>\n",
       "    .dataframe tbody tr th:only-of-type {\n",
       "        vertical-align: middle;\n",
       "    }\n",
       "\n",
       "    .dataframe tbody tr th {\n",
       "        vertical-align: top;\n",
       "    }\n",
       "\n",
       "    .dataframe thead th {\n",
       "        text-align: right;\n",
       "    }\n",
       "</style>\n",
       "<table border=\"1\" class=\"dataframe\">\n",
       "  <thead>\n",
       "    <tr style=\"text-align: right;\">\n",
       "      <th></th>\n",
       "      <th>Device_Type</th>\n",
       "      <th>Temperature</th>\n",
       "      <th>CPU_Usage</th>\n",
       "      <th>Memory_Usage</th>\n",
       "      <th>Error_Rate</th>\n",
       "      <th>Uptime</th>\n",
       "      <th>Failure</th>\n",
       "    </tr>\n",
       "  </thead>\n",
       "  <tbody>\n",
       "    <tr>\n",
       "      <th>0</th>\n",
       "      <td>0</td>\n",
       "      <td>63.389943</td>\n",
       "      <td>37.478755</td>\n",
       "      <td>99.051627</td>\n",
       "      <td>2.791260</td>\n",
       "      <td>16.700750</td>\n",
       "      <td>1</td>\n",
       "    </tr>\n",
       "    <tr>\n",
       "      <th>1</th>\n",
       "      <td>0</td>\n",
       "      <td>66.735138</td>\n",
       "      <td>91.438946</td>\n",
       "      <td>93.867897</td>\n",
       "      <td>4.000322</td>\n",
       "      <td>36.543771</td>\n",
       "      <td>1</td>\n",
       "    </tr>\n",
       "    <tr>\n",
       "      <th>2</th>\n",
       "      <td>0</td>\n",
       "      <td>59.383973</td>\n",
       "      <td>74.437226</td>\n",
       "      <td>25.858841</td>\n",
       "      <td>1.229763</td>\n",
       "      <td>65.103254</td>\n",
       "      <td>1</td>\n",
       "    </tr>\n",
       "    <tr>\n",
       "      <th>3</th>\n",
       "      <td>0</td>\n",
       "      <td>66.292687</td>\n",
       "      <td>71.625961</td>\n",
       "      <td>39.616745</td>\n",
       "      <td>4.151991</td>\n",
       "      <td>75.894574</td>\n",
       "      <td>1</td>\n",
       "    </tr>\n",
       "    <tr>\n",
       "      <th>4</th>\n",
       "      <td>0</td>\n",
       "      <td>53.077617</td>\n",
       "      <td>7.230234</td>\n",
       "      <td>54.507771</td>\n",
       "      <td>3.203656</td>\n",
       "      <td>108.244027</td>\n",
       "      <td>1</td>\n",
       "    </tr>\n",
       "  </tbody>\n",
       "</table>\n",
       "</div>"
      ],
      "text/plain": [
       "   Device_Type  Temperature  CPU_Usage  Memory_Usage  Error_Rate      Uptime  \\\n",
       "0            0    63.389943  37.478755     99.051627    2.791260   16.700750   \n",
       "1            0    66.735138  91.438946     93.867897    4.000322   36.543771   \n",
       "2            0    59.383973  74.437226     25.858841    1.229763   65.103254   \n",
       "3            0    66.292687  71.625961     39.616745    4.151991   75.894574   \n",
       "4            0    53.077617   7.230234     54.507771    3.203656  108.244027   \n",
       "\n",
       "   Failure  \n",
       "0        1  \n",
       "1        1  \n",
       "2        1  \n",
       "3        1  \n",
       "4        1  "
      ]
     },
     "execution_count": 12,
     "metadata": {},
     "output_type": "execute_result"
    }
   ],
   "source": [
    "data[\"Device_Type\"] = data[\"Device_Type\"].map(device_map)\n",
    "data.head()"
   ]
  },
  {
   "cell_type": "code",
   "execution_count": 15,
   "id": "c4d88d56",
   "metadata": {},
   "outputs": [
    {
     "name": "stdout",
     "output_type": "stream",
     "text": [
      "Failure\n",
      "1    1991\n",
      "0     199\n",
      "Name: count, dtype: int64\n"
     ]
    },
    {
     "data": {
      "image/png": "[encoded data removed]",
      "text/plain": [
       "<Figure size 640x480 with 1 Axes>"
      ]
     },
     "metadata": {},
     "output_type": "display_data"
    }
   ],
   "source": [
    "# Checking and plotting the distribution of the Failure column\n",
    "unique_falure = data.Failure.value_counts()\n",
    "print(unique_falure)\n",
    "\n",
    "unique_falure.plot(kind=\"bar\")\n",
    "plt.show()"
   ]
  },
  {
   "cell_type": "markdown",
   "id": "f3c738ae",
   "metadata": {},
   "source": [
    "This shows that the data is imbalanced with 1,991 failure instances and only 199 non failure instances"
   ]
  },
  {
   "cell_type": "code",
   "execution_count": 18,
   "id": "e0f9a71b",
   "metadata": {},
   "outputs": [],
   "source": [
    "# Splitting the data into training and testing of X and y parts\n",
    "X = data.drop(\"Failure\", axis=1)\n",
    "y = data[\"Failure\"]\n",
    "\n",
    "X_train, X_test, y_train, y_test = train_test_split(X, y, test_size=0.25, shuffle=True)"
   ]
  },
  {
   "cell_type": "code",
   "execution_count": 20,
   "id": "f2564c83",
   "metadata": {},
   "outputs": [
    {
     "data": {
      "text/html": [
       "<div>\n",
       "<style scoped>\n",
       "    .dataframe tbody tr th:only-of-type {\n",
       "        vertical-align: middle;\n",
       "    }\n",
       "\n",
       "    .dataframe tbody tr th {\n",
       "        vertical-align: top;\n",
       "    }\n",
       "\n",
       "    .dataframe thead th {\n",
       "        text-align: right;\n",
       "    }\n",
       "</style>\n",
       "<table border=\"1\" class=\"dataframe\">\n",
       "  <thead>\n",
       "    <tr style=\"text-align: right;\">\n",
       "      <th></th>\n",
       "      <th>Device_Type</th>\n",
       "      <th>Temperature</th>\n",
       "      <th>CPU_Usage</th>\n",
       "      <th>Memory_Usage</th>\n",
       "      <th>Error_Rate</th>\n",
       "      <th>Uptime</th>\n",
       "    </tr>\n",
       "  </thead>\n",
       "  <tbody>\n",
       "    <tr>\n",
       "      <th>1592</th>\n",
       "      <td>4</td>\n",
       "      <td>76.788054</td>\n",
       "      <td>56.005547</td>\n",
       "      <td>26.846997</td>\n",
       "      <td>1.235291</td>\n",
       "      <td>3180.321271</td>\n",
       "    </tr>\n",
       "    <tr>\n",
       "      <th>125</th>\n",
       "      <td>0</td>\n",
       "      <td>74.877901</td>\n",
       "      <td>98.006521</td>\n",
       "      <td>2.967173</td>\n",
       "      <td>0.251410</td>\n",
       "      <td>3004.380901</td>\n",
       "    </tr>\n",
       "    <tr>\n",
       "      <th>2027</th>\n",
       "      <td>5</td>\n",
       "      <td>82.766676</td>\n",
       "      <td>95.304259</td>\n",
       "      <td>5.143953</td>\n",
       "      <td>3.503720</td>\n",
       "      <td>4855.885752</td>\n",
       "    </tr>\n",
       "    <tr>\n",
       "      <th>174</th>\n",
       "      <td>0</td>\n",
       "      <td>74.635320</td>\n",
       "      <td>42.705351</td>\n",
       "      <td>68.012404</td>\n",
       "      <td>3.346951</td>\n",
       "      <td>4185.900772</td>\n",
       "    </tr>\n",
       "    <tr>\n",
       "      <th>1824</th>\n",
       "      <td>4</td>\n",
       "      <td>57.825509</td>\n",
       "      <td>62.193202</td>\n",
       "      <td>31.490528</td>\n",
       "      <td>0.415498</td>\n",
       "      <td>8757.562798</td>\n",
       "    </tr>\n",
       "    <tr>\n",
       "      <th>...</th>\n",
       "      <td>...</td>\n",
       "      <td>...</td>\n",
       "      <td>...</td>\n",
       "      <td>...</td>\n",
       "      <td>...</td>\n",
       "      <td>...</td>\n",
       "    </tr>\n",
       "    <tr>\n",
       "      <th>730</th>\n",
       "      <td>2</td>\n",
       "      <td>82.950964</td>\n",
       "      <td>84.111225</td>\n",
       "      <td>19.061992</td>\n",
       "      <td>1.884313</td>\n",
       "      <td>8.387040</td>\n",
       "    </tr>\n",
       "    <tr>\n",
       "      <th>1120</th>\n",
       "      <td>3</td>\n",
       "      <td>71.967429</td>\n",
       "      <td>66.985576</td>\n",
       "      <td>62.763560</td>\n",
       "      <td>1.214382</td>\n",
       "      <td>602.511890</td>\n",
       "    </tr>\n",
       "    <tr>\n",
       "      <th>421</th>\n",
       "      <td>1</td>\n",
       "      <td>69.404457</td>\n",
       "      <td>35.690442</td>\n",
       "      <td>32.537172</td>\n",
       "      <td>0.333910</td>\n",
       "      <td>1358.773190</td>\n",
       "    </tr>\n",
       "    <tr>\n",
       "      <th>1301</th>\n",
       "      <td>3</td>\n",
       "      <td>70.093798</td>\n",
       "      <td>65.206257</td>\n",
       "      <td>60.541631</td>\n",
       "      <td>4.577601</td>\n",
       "      <td>4945.002217</td>\n",
       "    </tr>\n",
       "    <tr>\n",
       "      <th>1290</th>\n",
       "      <td>3</td>\n",
       "      <td>78.759777</td>\n",
       "      <td>84.064552</td>\n",
       "      <td>62.552225</td>\n",
       "      <td>0.124733</td>\n",
       "      <td>4690.712190</td>\n",
       "    </tr>\n",
       "  </tbody>\n",
       "</table>\n",
       "<p>1642 rows × 6 columns</p>\n",
       "</div>"
      ],
      "text/plain": [
       "      Device_Type  Temperature  CPU_Usage  Memory_Usage  Error_Rate  \\\n",
       "1592            4    76.788054  56.005547     26.846997    1.235291   \n",
       "125             0    74.877901  98.006521      2.967173    0.251410   \n",
       "2027            5    82.766676  95.304259      5.143953    3.503720   \n",
       "174             0    74.635320  42.705351     68.012404    3.346951   \n",
       "1824            4    57.825509  62.193202     31.490528    0.415498   \n",
       "...           ...          ...        ...           ...         ...   \n",
       "730             2    82.950964  84.111225     19.061992    1.884313   \n",
       "1120            3    71.967429  66.985576     62.763560    1.214382   \n",
       "421             1    69.404457  35.690442     32.537172    0.333910   \n",
       "1301            3    70.093798  65.206257     60.541631    4.577601   \n",
       "1290            3    78.759777  84.064552     62.552225    0.124733   \n",
       "\n",
       "           Uptime  \n",
       "1592  3180.321271  \n",
       "125   3004.380901  \n",
       "2027  4855.885752  \n",
       "174   4185.900772  \n",
       "1824  8757.562798  \n",
       "...           ...  \n",
       "730      8.387040  \n",
       "1120   602.511890  \n",
       "421   1358.773190  \n",
       "1301  4945.002217  \n",
       "1290  4690.712190  \n",
       "\n",
       "[1642 rows x 6 columns]"
      ]
     },
     "execution_count": 20,
     "metadata": {},
     "output_type": "execute_result"
    }
   ],
   "source": [
    "# Visualizing X_train and y_train to see what the returned data looks like\n",
    "X_train"
   ]
  },
  {
   "cell_type": "code",
   "execution_count": 21,
   "id": "26d5f6e7",
   "metadata": {},
   "outputs": [
    {
     "data": {
      "text/plain": [
       "1592    1\n",
       "125     1\n",
       "2027    1\n",
       "174     1\n",
       "1824    1\n",
       "       ..\n",
       "730     1\n",
       "1120    1\n",
       "421     1\n",
       "1301    1\n",
       "1290    1\n",
       "Name: Failure, Length: 1642, dtype: int64"
      ]
     },
     "execution_count": 21,
     "metadata": {},
     "output_type": "execute_result"
    }
   ],
   "source": [
    "y_train"
   ]
  },
  {
   "cell_type": "code",
   "execution_count": 22,
   "id": "5b948021",
   "metadata": {},
   "outputs": [
    {
     "data": {
      "text/plain": [
       "array([[ 0.86240959,  0.68898502,  0.22095247, -0.79558979, -0.83709699,\n",
       "        -0.44848293],\n",
       "       [-1.477246  ,  0.49688465,  1.66553445, -1.62596012, -1.51898667,\n",
       "        -0.51791689],\n",
       "       [ 1.44732349,  1.29024335,  1.57259282, -1.55026718,  0.73506193,\n",
       "         0.21276995],\n",
       "       ...,\n",
       "       [-0.8923321 , -0.05356899, -0.47776547, -0.59772602, -1.46180903,\n",
       "        -1.16734749],\n",
       "       [ 0.27749569,  0.01575669,  0.53740181,  0.37606973,  1.47932613,\n",
       "         0.2479393 ],\n",
       "       [ 0.27749569,  0.88727727,  1.18601423,  0.44598387, -1.60678158,\n",
       "         0.14758505]])"
      ]
     },
     "execution_count": 22,
     "metadata": {},
     "output_type": "execute_result"
    }
   ],
   "source": [
    "# scaling the X_train data\n",
    "scaler = StandardScaler()\n",
    "X_train_norm = scaler.fit_transform(X_train)\n",
    "X_train_norm"
   ]
  },
  {
   "cell_type": "markdown",
   "id": "ac2c342b",
   "metadata": {},
   "source": [
    "## Model Building"
   ]
  },
  {
   "cell_type": "code",
   "execution_count": 29,
   "id": "deee0cb0",
   "metadata": {},
   "outputs": [],
   "source": [
    "# Helper functions\n",
    "\n",
    "models = {\n",
    "    \"Logistic Regression\" : LogisticRegression(),\n",
    "    \"Random Forest\" : RandomForestClassifier(),\n",
    "    \"Decision Tree\" : DecisionTreeClassifier(),\n",
    "    \"XGBoost\" : xgb.XGBClassifier()\n",
    "}\n",
    "\n",
    "\n",
    "def train_model(model_name, X=X_train_norm, y=y_train):\n",
    "    model = models[model_name]\n",
    "    model = model.fit(X, y)\n",
    "    \n",
    "    return model\n",
    "\n",
    "def predict_and_score(model, X_test=X_test, y_test=y_test):\n",
    "    X_test_norm = scaler.transform(X_test)\n",
    "    y_pred = model.predict(X_test_norm)\n",
    "    metrics = {\n",
    "        \"conf_matrix\" : confusion_matrix(y_test,y_pred),\n",
    "        \"accuracy\" : accuracy_score(y_test, y_pred)\n",
    "    }\n",
    "    \n",
    "    return metrics\n"
   ]
  },
  {
   "cell_type": "code",
   "execution_count": 34,
   "id": "1358d24e",
   "metadata": {},
   "outputs": [
    {
     "name": "stdout",
     "output_type": "stream",
     "text": [
      "Started opeartions for Logistic Regression\n",
      "Results for Logistic Regression\n",
      "{'accuracy': 0.9197080291970803,\n",
      " 'conf_matrix': array([[ 17,  31],\n",
      "       [ 13, 487]])}\n",
      "\n",
      "\n",
      "\n",
      "Started opeartions for Random Forest\n",
      "Results for Random Forest\n",
      "{'accuracy': 0.9014598540145985,\n",
      " 'conf_matrix': array([[  8,  40],\n",
      "       [ 14, 486]])}\n",
      "\n",
      "\n",
      "\n",
      "Started opeartions for Decision Tree\n",
      "Results for Decision Tree\n",
      "{'accuracy': 0.8667883211678832,\n",
      " 'conf_matrix': array([[ 14,  34],\n",
      "       [ 39, 461]])}\n",
      "\n",
      "\n",
      "\n",
      "Started opeartions for XGBoost\n",
      "Results for XGBoost\n",
      "{'accuracy': 0.8978102189781022,\n",
      " 'conf_matrix': array([[ 19,  29],\n",
      "       [ 27, 473]])}\n",
      "\n",
      "\n",
      "\n"
     ]
    }
   ],
   "source": [
    "model_metrics = {}\n",
    "\n",
    "for model_name in models.keys():\n",
    "    print(f\"Started opeartions for {model_name}\")\n",
    "    model = train_model(model_name=model_name)\n",
    "    metrics = predict_and_score(model)\n",
    "    model_metrics[model_name] = metrics\n",
    "    print(f\"Results for {model_name}\")\n",
    "    pprint(metrics)\n",
    "    print(\"\\n\\n\")"
   ]
  },
  {
   "cell_type": "code",
   "execution_count": 35,
   "id": "604d8c14",
   "metadata": {},
   "outputs": [
    {
     "data": {
      "text/plain": [
       "{'Logistic Regression': {'conf_matrix': array([[ 17,  31],\n",
       "         [ 13, 487]]),\n",
       "  'accuracy': 0.9197080291970803},\n",
       " 'Random Forest': {'conf_matrix': array([[  8,  40],\n",
       "         [ 14, 486]]),\n",
       "  'accuracy': 0.9014598540145985},\n",
       " 'Decision Tree': {'conf_matrix': array([[ 14,  34],\n",
       "         [ 39, 461]]),\n",
       "  'accuracy': 0.8667883211678832},\n",
       " 'XGBoost': {'conf_matrix': array([[ 19,  29],\n",
       "         [ 27, 473]]),\n",
       "  'accuracy': 0.8978102189781022}}"
      ]
     },
     "execution_count": 35,
     "metadata": {},
     "output_type": "execute_result"
    }
   ],
   "source": [
    "model_metrics"
   ]
  },
  {
   "cell_type": "markdown",
   "id": "56a76611",
   "metadata": {},
   "source": [
    "By analysing each of the models' result, and plotting the confusion matrix, but first, what is a confusion matrix"
   ]
  },
  {
   "cell_type": "markdown",
   "id": "6139e2b7",
   "metadata": {},
   "source": [
    "# Confusion Matrix\n",
    "\n",
    "A confusion matrix is a table used to evaluate the performance of a classification algorithm. It summarizes the results of the predictions and provides insight into how well the classifier is performing, especially for binary classification tasks. The matrix compares the actual target values with the predicted values.\n",
    "\n",
    "## Structure\n",
    "\n",
    "The confusion matrix is typically structured as a 2x2 table for binary classification:\n",
    "\n",
    "|                | Predicted Positive | Predicted Negative |\n",
    "|----------------|--------------------|--------------------|\n",
    "| **Actual Positive** | True Positive (TP)  | False Negative (FN) |\n",
    "| **Actual Negative** | False Positive (FP) | True Negative (TN)  |\n",
    "\n",
    "### Definitions\n",
    "\n",
    "- **True Positive (TP)**: The number of instances that are correctly classified as positive.\n",
    "- **True Negative (TN)**: The number of instances that are correctly classified as negative.\n",
    "- **False Positive (FP)**: The number of instances that are incorrectly classified as positive (also known as a Type I error).\n",
    "- **False Negative (FN)**: The number of instances that are incorrectly classified as negative (also known as a Type II error).\n",
    "\n",
    "## Metrics Derived from the Confusion Matrix\n",
    "\n",
    "From the confusion matrix, several important metrics can be derived to assess the performance of a classification model:\n",
    "\n",
    "1. **Accuracy**: The proportion of the total number of predictions that are correct.\n",
    "   \\[\n",
    "   \\text{Accuracy} = \\frac{TP + TN}{TP + TN + FP + FN}\n",
    "   \\]\n",
    "\n",
    "2. **Precision**: The proportion of positive predictions that are actually correct.\n",
    "   \\[\n",
    "   \\text{Precision} = \\frac{TP}{TP + FP}\n",
    "   \\]\n",
    "\n",
    "3. **Recall (Sensitivity)**: The proportion of actual positives that are correctly identified.\n",
    "   \\[\n",
    "   \\text{Recall} = \\frac{TP}{TP + FN}\n",
    "   \\]\n",
    "\n",
    "4. **F1 Score**: The harmonic mean of precision and recall.\n",
    "   \\[\n",
    "   \\text{F1 Score} = 2 \\times \\frac{\\text{Precision} \\times \\text{Recall}}{\\text{Precision} + \\text{Recall}}\n",
    "   \\]\n",
    "\n",
    "5. **Specificity**: The proportion of actual negatives that are correctly identified.\n",
    "   \\[\n",
    "   \\text{Specificity} = \\frac{TN}{TN + FP}\n",
    "   \\]\n",
    "\n",
    "## Example\n",
    "\n",
    "Let's consider an example where a binary classifier is used to identify whether an email is spam (positive) or not spam (negative). The confusion matrix might look like this:\n",
    "\n",
    "|                | Predicted Spam | Predicted Not Spam |\n",
    "|----------------|----------------|--------------------|\n",
    "| **Actual Spam** | 50             | 10                 |\n",
    "| **Actual Not Spam** | 5              | 100                |\n",
    "\n",
    "From this confusion matrix, we can calculate the metrics:\n",
    "\n",
    "- **True Positives (TP)**: 50\n",
    "- **True Negatives (TN)**: 100\n",
    "- **False Positives (FP)**: 5\n",
    "- **False Negatives (FN)**: 10\n",
    "\n",
    "- **Accuracy**: \\(\\frac{50 + 100}{50 + 100 + 5 + 10} = 0.91\\)\n",
    "- **Precision**: \\(\\frac{50}{50 + 5} = 0.91\\)\n",
    "- **Recall**: \\(\\frac{50}{50 + 10} = 0.83\\)\n",
    "- **F1 Score**: \\(2 \\times \\frac{0.91 \\times 0.83}{0.91 + 0.83} \\approx 0.87\\)\n",
    "- **Specificity**: \\(\\frac{100}{100 + 5} = 0.95\\)\n",
    "\n",
    "These metrics help in understanding the performance of the classifier in various aspects.\n"
   ]
  },
  {
   "cell_type": "code",
   "execution_count": 60,
   "id": "550168ff",
   "metadata": {},
   "outputs": [
    {
     "data": {
      "image/png": "[encoded data removed]",
      "text/plain": [
       "<Figure size 1100x1200 with 8 Axes>"
      ]
     },
     "metadata": {},
     "output_type": "display_data"
    }
   ],
   "source": [
    "plt.figure(figsize=(11, 12))\n",
    "for i, (model_name, metrics) in enumerate(model_metrics.items(), start=1):\n",
    "    conf_mat = metrics[\"conf_matrix\"]\n",
    "    accuracy = metrics[\"accuracy\"]\n",
    "    plt.subplot(2, 2, i)\n",
    "    ax = sns.heatmap(conf_mat, fmt=\"d\",annot=True)\n",
    "    \n",
    "    for i, j in [(0, 0), (1, 1)]:\n",
    "        ax.add_patch(plt.Circle((j + 0.5, i + 0.5), 0.3, color='green', fill=False, lw=2))\n",
    "        \n",
    "    plt.xlabel('Predicted labels')\n",
    "    plt.ylabel('True labels')\n",
    "    plt.title(f\"Confusion Matrix for {model_name} Model\\nAccuracy: {accuracy:.2f}\")\n",
    "    \n",
    "plt.show()"
   ]
  },
  {
   "cell_type": "markdown",
   "id": "e0556d1a",
   "metadata": {},
   "source": [
    "From the above plot, the TP and TN parts of the confusion matrix for each of the trained model are delibrately marked in green to highlight their position.<br>\n",
    "By observation, the best performing model here is the Logistic Regression model, this is an indication that their is a stronger linear relationship between the parameters in the data used.<br>\n",
    "The logistic regression model has an accuracy of 92% while correcting predicting 487 cases of failure and 17 non failure cases. It mis-predicted 39 failure cases as non failure and 34 non failures as failures. This can be attributed to the imbalance of the data. A popular misconception with imbalanced data is that algorithms like SMOTE can help resample (either upsampling or downsampling) the data, however, that is not true, it doesn't improve the data as it has been debunked by research results"
   ]
  },
  {
   "cell_type": "markdown",
   "id": "9a878fe1",
   "metadata": {},
   "source": [
    "The model to be selected for the purpose of this \"Prediction of Failures in Network Devices using Machine Learning\" is the Logistic Regression model, for its simplicity and ability to generalize on the test data better."
   ]
  },
  {
   "cell_type": "code",
   "execution_count": 62,
   "id": "9c107515",
   "metadata": {},
   "outputs": [
    {
     "name": "stdout",
     "output_type": "stream",
     "text": [
      "Model saved\n"
     ]
    }
   ],
   "source": [
    "# Saving the model\n",
    "model = train_model(\"Logistic Regression\")\n",
    "joblib.dump(model, \"logreg.pkl\")\n",
    "print(\"Model saved\")"
   ]
  },
  {
   "cell_type": "code",
   "execution_count": 63,
   "id": "819506b1",
   "metadata": {},
   "outputs": [
    {
     "name": "stdout",
     "output_type": "stream",
     "text": [
      "Scaler saved\n"
     ]
    }
   ],
   "source": [
    "# saving the scaler object also\n",
    "joblib.dump(scaler, \"scaler.pkl\")\n",
    "print(\"Scaler saved\")"
   ]
  }
 ],
 "metadata": {
  "kernelspec": {
   "display_name": "sklearn_env",
   "language": "python",
   "name": "sklearn_env"
  },
  "language_info": {
   "codemirror_mode": {
    "name": "ipython",
    "version": 3
   },
   "file_extension": ".py",
   "mimetype": "text/x-python",
   "name": "python",
   "nbconvert_exporter": "python",
   "pygments_lexer": "ipython3",
   "version": "3.12.3"
  }
 },
 "nbformat": 4,
 "nbformat_minor": 5
}
